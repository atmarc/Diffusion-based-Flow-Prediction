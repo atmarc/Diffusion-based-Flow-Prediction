{
 "cells": [
  {
   "cell_type": "markdown",
   "metadata": {},
   "source": [
    "# Imports & load dataset"
   ]
  },
  {
   "cell_type": "code",
   "execution_count": 1,
   "metadata": {},
   "outputs": [],
   "source": [
    "%load_ext autoreload\n",
    "%autoreload 2\n",
    "\n",
    "from torch.nn.utils import prune\n",
    "import zipfile\n",
    "from airfoil_diffusion.airfoil_datasets import *\n",
    "from airfoil_diffusion.networks import *\n",
    "from airfoil_diffusion.trainer import *"
   ]
  },
  {
   "cell_type": "code",
   "execution_count": 2,
   "metadata": {},
   "outputs": [
    {
     "name": "stderr",
     "output_type": "stream",
     "text": [
      "Loading data:   0%|          | 0/125 [00:00<?, ?it/s]"
     ]
    },
    {
     "name": "stderr",
     "output_type": "stream",
     "text": [
      "Loading data: 100%|██████████| 125/125 [00:05<00:00, 24.45it/s]\n"
     ]
    }
   ],
   "source": [
    "if not os.path.exists(\"./datasets/1_parameter/data/\"):\n",
    "    files=[file for file in os.listdir(\"./datasets/1_parameter/\") if file.endswith(\".zip\")]\n",
    "    for file in tqdm(files): \n",
    "        f=zipfile.ZipFile(\"./datasets/1_parameter/\"+file,'r')\n",
    "        for file in f.namelist():\n",
    "            f.extract(file,\"./datasets/1_parameter/data/\")\n",
    "        f.close() \n",
    "\n",
    "train_dataset = AirfoilDataset(FileDataFiles(\"./datasets/1_parameter/train_cases.txt\",base_path=\"./datasets/1_parameter/data/\"),\n",
    "                               data_size=32)"
   ]
  },
  {
   "cell_type": "markdown",
   "metadata": {},
   "source": [
    "# Proves"
   ]
  },
  {
   "cell_type": "code",
   "execution_count": 3,
   "metadata": {},
   "outputs": [],
   "source": [
    "network_configs = {\n",
    "    # \"attention_layers\": [2, 3],\n",
    "    # \"condition_layers\": [-2],\n",
    "    # \"depth_each_layer\": 2,\n",
    "    \"dim_basic\": 16,\n",
    "    # \"dim_condition\": 3,\n",
    "    # \"dim_encoded_time\": 8,\n",
    "    \"dim_in\": 3,\n",
    "    # \"dim_multipliers\": [1, 2, 4, 4],\n",
    "    # \"dim_multipliers\": [2, 2, 2, 2],\n",
    "    \"dim_multipliers\": [2,2],\n",
    "    \"dim_out\": 3,\n",
    "    # \"heads_attention\": 4,\n",
    "    # \"linear_attention\": False,\n",
    "    \"skip_connection_scale\": 0.707,\n",
    "    # \"use_input_condition\": True\n",
    "}\n",
    "model_weights = f\"./training/single_parameter/32/training/2024-08-29-13_18_52/checkpoints/checkpoint_125000.pt\"\n",
    "model = AifNet(**network_configs)\n",
    "# model = UNet(**network_configs)\n",
    "# model.load_state_dict(torch.load(model_weights)[\"network\"])"
   ]
  },
  {
   "cell_type": "code",
   "execution_count": null,
   "metadata": {},
   "outputs": [],
   "source": []
  },
  {
   "cell_type": "code",
   "execution_count": 4,
   "metadata": {},
   "outputs": [
    {
     "name": "stdout",
     "output_type": "stream",
     "text": [
      "dim_basic: 16\n",
      "dim_in: 6\n",
      "dim_multipliers: [2, 2]\n",
      "dim_out: 3\n",
      "skip_connection_scale: 0.707\n",
      "attention_layers: [3, 4]\n",
      "condition_layers: [-2]\n",
      "use_input_condition: True\n",
      "depth_each_layer: 2\n",
      "dim_encoded_time: 8\n",
      "dim_condition: 3\n",
      "heads_attention: 4\n",
      "linear_attention: False\n",
      "condition_dim: 0\n"
     ]
    }
   ],
   "source": [
    "model.show_current_configs()"
   ]
  },
  {
   "cell_type": "code",
   "execution_count": null,
   "metadata": {},
   "outputs": [],
   "source": []
  },
  {
   "cell_type": "markdown",
   "metadata": {},
   "source": [
    "# Train model"
   ]
  },
  {
   "cell_type": "code",
   "execution_count": 15,
   "metadata": {},
   "outputs": [],
   "source": [
    "network_configs = {\n",
    "    \"attention_layers\": [2, 3],\n",
    "    \"condition_layers\": [-2],\n",
    "    \"depth_each_layer\": 2,\n",
    "    \"dim_basic\": 16,\n",
    "    \"dim_condition\": 3,\n",
    "    \"dim_encoded_time\": 8,\n",
    "    \"dim_in\": 3,\n",
    "    # \"dim_multipliers\": [1, 2, 4, 4],\n",
    "    # \"dim_multipliers\": [2, 2, 2, 2],\n",
    "    # \"dim_multipliers\": [2, 2, 2],\n",
    "    \"dim_multipliers\": [2,2],\n",
    "    # \"dim_multipliers\": [1,1],\n",
    "    \"dim_out\": 3,\n",
    "    \"heads_attention\": 4,\n",
    "    \"linear_attention\": False,\n",
    "    \"skip_connection_scale\": 0.707,\n",
    "    \"use_input_condition\": True\n",
    "}"
   ]
  },
  {
   "cell_type": "code",
   "execution_count": 16,
   "metadata": {},
   "outputs": [
    {
     "name": "stdout",
     "output_type": "stream",
     "text": [
      "attention_layers: [2, 3]\n",
      "condition_layers: [-2]\n",
      "depth_each_layer: 2\n",
      "dim_basic: 16\n",
      "dim_condition: 3\n",
      "dim_encoded_time: 8\n",
      "dim_in: 6\n",
      "dim_multipliers: [2, 2]\n",
      "dim_out: 3\n",
      "heads_attention: 4\n",
      "linear_attention: False\n",
      "skip_connection_scale: 0.707\n",
      "use_input_condition: True\n",
      "condition_dim: 0\n"
     ]
    }
   ],
   "source": [
    "network = AifNet(**network_configs)\n",
    "network.show_current_configs()"
   ]
  },
  {
   "cell_type": "code",
   "execution_count": 7,
   "metadata": {},
   "outputs": [],
   "source": [
    "diffusion_trainer = DiffusionTrainer()\n",
    "train_configs = {\n",
    "    \"name\": \"training\",\n",
    "    \"save_path\": \"./training/single_parameter/32/\",\n",
    "    \"device\": \"cuda:0\",\n",
    "    \"batch_size_train\": len(train_dataset),\n",
    "    \"shuffle_train\": True,\n",
    "    \"num_workers_train\": 0,\n",
    "    \"validation_epoch_frequency\": 0,\n",
    "    \"optimizer\": \"AdamW\",\n",
    "    \"lr_scheduler\": \"step\",\n",
    "    \"warmup_epoch\": 0,\n",
    "    \"record_iteration_loss\": False,\n",
    "    \"epochs\": 125000,\n",
    "    \"save_epoch\": 5000,\n",
    "    \"lr\": 0.0001,\n",
    "    \"final_lr\": 0.00001\n",
    "}"
   ]
  },
  {
   "cell_type": "code",
   "execution_count": null,
   "metadata": {},
   "outputs": [],
   "source": [
    "diffusion_trainer.train_from_scratch(network, train_dataset, **train_configs)"
   ]
  },
  {
   "cell_type": "code",
   "execution_count": 8,
   "metadata": {},
   "outputs": [],
   "source": [
    "def evaluate_sparcity(model):\n",
    "    total_params = 0\n",
    "    total_zeros = 0\n",
    "\n",
    "    for name, module in model.named_modules():\n",
    "        if hasattr(module, \"weight\"):\n",
    "            num_params = sum(p.numel() for p in module.parameters())\n",
    "            total_params += num_params\n",
    "            total_zeros += torch.sum(module.weight == 0)\n",
    "\n",
    "    return total_params, total_zeros.item()\n"
   ]
  },
  {
   "cell_type": "code",
   "execution_count": 9,
   "metadata": {},
   "outputs": [],
   "source": [
    "def _prune(network: nn.Module, prune_type:str, pruning_percentage:float):\n",
    "    norm_n = {'L1': 1, 'L2': 2}[prune_type]\n",
    "\n",
    "    for module in network.modules():\n",
    "        if type(module) is nn.Conv2d and module.out_channels > 3:\n",
    "            prune.ln_structured(module, 'weight', amount=pruning_percentage, dim=0, n=norm_n)\n",
    "\n",
    "\n",
    "def prune_remove(network):\n",
    "    for module in network.modules():\n",
    "        if type(module) is nn.Conv2d and module.out_channels > 3:\n",
    "            prune.remove(module, 'weight')\n"
   ]
  },
  {
   "cell_type": "code",
   "execution_count": 13,
   "metadata": {},
   "outputs": [],
   "source": [
    "_prune(network, \"L1\", 0.5)"
   ]
  },
  {
   "cell_type": "code",
   "execution_count": 14,
   "metadata": {},
   "outputs": [
    {
     "name": "stdout",
     "output_type": "stream",
     "text": [
      "Sparse: 0.00%\n",
      "Non zeros: 43794\n"
     ]
    }
   ],
   "source": [
    "total_w, n_zeros = evaluate_sparcity(network)\n",
    "print(f\"Sparse: {100 * n_zeros / total_w:.2f}%\")\n",
    "print(f\"Non zeros: {total_w - n_zeros}\")"
   ]
  },
  {
   "cell_type": "code",
   "execution_count": 87,
   "metadata": {},
   "outputs": [
    {
     "data": {
      "text/plain": [
       "0.5132188731375618"
      ]
     },
     "execution_count": 87,
     "metadata": {},
     "output_type": "execute_result"
    }
   ],
   "source": [
    "0.92**8"
   ]
  },
  {
   "cell_type": "code",
   "execution_count": 39,
   "metadata": {},
   "outputs": [],
   "source": [
    "network = AifNet(**network_configs)\n",
    "for _ in range(17):\n",
    "    _prune(network, \"L1\", (1 - 0.9))"
   ]
  },
  {
   "cell_type": "code",
   "execution_count": 40,
   "metadata": {},
   "outputs": [
    {
     "name": "stdout",
     "output_type": "stream",
     "text": [
      "Sparse: 73.49%\n",
      "Non zeros: 41265\n"
     ]
    }
   ],
   "source": [
    "total_w, n_zeros = evaluate_sparcity(network)\n",
    "print(f\"Sparse: {100 * n_zeros / total_w:.2f}%\")\n",
    "print(f\"Non zeros: {total_w - n_zeros}\")"
   ]
  },
  {
   "cell_type": "code",
   "execution_count": 16,
   "metadata": {},
   "outputs": [],
   "source": [
    "prune_remove(network)"
   ]
  },
  {
   "cell_type": "code",
   "execution_count": null,
   "metadata": {},
   "outputs": [],
   "source": [
    "# 117618"
   ]
  }
 ],
 "metadata": {
  "kernelspec": {
   "display_name": "Python 3",
   "language": "python",
   "name": "python3"
  },
  "language_info": {
   "codemirror_mode": {
    "name": "ipython",
    "version": 3
   },
   "file_extension": ".py",
   "mimetype": "text/x-python",
   "name": "python",
   "nbconvert_exporter": "python",
   "pygments_lexer": "ipython3",
   "version": "3.10.12"
  }
 },
 "nbformat": 4,
 "nbformat_minor": 2
}

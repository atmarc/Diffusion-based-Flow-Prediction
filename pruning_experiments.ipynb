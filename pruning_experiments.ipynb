{
 "cells": [
  {
   "cell_type": "markdown",
   "metadata": {},
   "source": [
    "# Imports & load dataset"
   ]
  },
  {
   "cell_type": "code",
   "execution_count": 1,
   "metadata": {},
   "outputs": [],
   "source": [
    "%load_ext autoreload\n",
    "%autoreload 2\n",
    "\n",
    "import zipfile\n",
    "from airfoil_diffusion.airfoil_datasets import *\n",
    "from airfoil_diffusion.networks import *\n",
    "from airfoil_diffusion.trainer import *"
   ]
  },
  {
   "cell_type": "code",
   "execution_count": 2,
   "metadata": {},
   "outputs": [
    {
     "name": "stderr",
     "output_type": "stream",
     "text": [
      "Loading data:  24%|██▍       | 30/125 [00:00<00:00, 296.98it/s]"
     ]
    },
    {
     "name": "stderr",
     "output_type": "stream",
     "text": [
      "Loading data: 100%|██████████| 125/125 [00:00<00:00, 294.84it/s]\n"
     ]
    }
   ],
   "source": [
    "if not os.path.exists(\"./datasets/1_parameter/data/\"):\n",
    "    files=[file for file in os.listdir(\"./datasets/1_parameter/\") if file.endswith(\".zip\")]\n",
    "    for file in tqdm(files): \n",
    "        f=zipfile.ZipFile(\"./datasets/1_parameter/\"+file,'r')\n",
    "        for file in f.namelist():\n",
    "            f.extract(file,\"./datasets/1_parameter/data/\")\n",
    "        f.close() \n",
    "\n",
    "train_dataset = AirfoilDataset(FileDataFiles(\"./datasets/1_parameter/train_cases.txt\",base_path=\"./datasets/1_parameter/data/\"),\n",
    "                               data_size=32)"
   ]
  },
  {
   "cell_type": "markdown",
   "metadata": {},
   "source": [
    "# Train model"
   ]
  },
  {
   "cell_type": "code",
   "execution_count": 7,
   "metadata": {},
   "outputs": [],
   "source": [
    "network_configs = {\n",
    "    \"attention_layers\": [2, 3],\n",
    "    \"condition_layers\": [-2],\n",
    "    \"depth_each_layer\": 2,\n",
    "    \"dim_basic\": 16,\n",
    "    \"dim_condition\": 3,\n",
    "    \"dim_encoded_time\": 8,\n",
    "    \"dim_in\": 3,\n",
    "    \"dim_multipliers\": [1, 2, 4, 4],\n",
    "    \"dim_out\": 3,\n",
    "    \"heads_attention\": 4,\n",
    "    \"linear_attention\": False,\n",
    "    \"skip_connection_scale\": 0.707,\n",
    "    \"use_input_condition\": True\n",
    "}"
   ]
  },
  {
   "cell_type": "code",
   "execution_count": 8,
   "metadata": {},
   "outputs": [
    {
     "name": "stdout",
     "output_type": "stream",
     "text": [
      "attention_layers: [2, 3]\n",
      "condition_layers: [-2]\n",
      "depth_each_layer: 2\n",
      "dim_basic: 16\n",
      "dim_condition: 3\n",
      "dim_encoded_time: 8\n",
      "dim_in: 6\n",
      "dim_multipliers: [1, 2, 4, 4]\n",
      "dim_out: 3\n",
      "heads_attention: 4\n",
      "linear_attention: False\n",
      "skip_connection_scale: 0.707\n",
      "use_input_condition: True\n",
      "condition_dim: 0\n"
     ]
    }
   ],
   "source": [
    "network = AifNet(**network_configs)\n",
    "network.show_current_configs()"
   ]
  },
  {
   "cell_type": "code",
   "execution_count": 10,
   "metadata": {},
   "outputs": [],
   "source": [
    "diffusion_trainer = DiffusionTrainer()\n",
    "train_configs = {\n",
    "    \"name\": \"training\",\n",
    "    \"save_path\": \"./training/single_parameter/32/\",\n",
    "    \"device\": \"cuda:0\",\n",
    "    \"batch_size_train\": 25,\n",
    "    \"shuffle_train\": True,\n",
    "    \"num_workers_train\": 0,\n",
    "    \"validation_epoch_frequency\": 0,\n",
    "    \"optimizer\": \"AdamW\",\n",
    "    \"lr_scheduler\": \"step\",\n",
    "    \"warmup_epoch\": 0,\n",
    "    \"record_iteration_loss\": False,\n",
    "    \"epochs\": 125000,\n",
    "    \"save_epoch\": 5000,\n",
    "    \"lr\": 0.0001,\n",
    "    \"final_lr\": 0.00001\n",
    "}"
   ]
  },
  {
   "cell_type": "code",
   "execution_count": null,
   "metadata": {},
   "outputs": [],
   "source": [
    "diffusion_trainer.train_from_scratch(network, train_dataset, **train_configs)"
   ]
  },
  {
   "cell_type": "code",
   "execution_count": null,
   "metadata": {},
   "outputs": [],
   "source": []
  },
  {
   "cell_type": "code",
   "execution_count": null,
   "metadata": {},
   "outputs": [],
   "source": []
  }
 ],
 "metadata": {
  "kernelspec": {
   "display_name": "Python 3",
   "language": "python",
   "name": "python3"
  },
  "language_info": {
   "codemirror_mode": {
    "name": "ipython",
    "version": 3
   },
   "file_extension": ".py",
   "mimetype": "text/x-python",
   "name": "python",
   "nbconvert_exporter": "python",
   "pygments_lexer": "ipython3",
   "version": "3.10.12"
  }
 },
 "nbformat": 4,
 "nbformat_minor": 2
}
